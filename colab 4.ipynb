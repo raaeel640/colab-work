{
  "nbformat": 4,
  "nbformat_minor": 0,
  "metadata": {
    "colab": {
      "provenance": []
    },
    "kernelspec": {
      "name": "python3",
      "display_name": "Python 3"
    },
    "language_info": {
      "name": "python"
    }
  },
  "cells": [
    {
      "cell_type": "code",
      "execution_count": 5,
      "metadata": {
        "colab": {
          "base_uri": "https://localhost:8080/"
        },
        "id": "6zaVgkiLWxvj",
        "outputId": "80764c49-0e9f-426b-b395-37ba0479ca87"
      },
      "outputs": [
        {
          "output_type": "execute_result",
          "data": {
            "text/plain": [
              "array([ True,  True,  True, False, False])"
            ]
          },
          "metadata": {},
          "execution_count": 5
        }
      ],
      "source": [
        "import numpy as np\n",
        "arr1= np.array([1,2,3,5,6])\n",
        "arr2=np.array([7,8,9,4,1])\n",
        "arr2>6"
      ]
    },
    {
      "cell_type": "code",
      "source": [
        "arr3=np.arange(8).reshape(2,4)\n",
        "arr4=np.arange(6,14).reshape(4,2)\n",
        "print(arr3.dot(arr4))\n",
        "a"
      ],
      "metadata": {
        "colab": {
          "base_uri": "https://localhost:8080/"
        },
        "id": "I5H_P-dLY_ZY",
        "outputId": "66c24815-45e6-4248-8ce9-d1e697674999"
      },
      "execution_count": 20,
      "outputs": [
        {
          "output_type": "stream",
          "name": "stdout",
          "text": [
            "[[ 64  70]\n",
            " [208 230]]\n"
          ]
        }
      ]
    },
    {
      "cell_type": "code",
      "source": [
        "arr3"
      ],
      "metadata": {
        "colab": {
          "base_uri": "https://localhost:8080/"
        },
        "id": "Ci1v5ZLrc4h3",
        "outputId": "247d46d5-0e09-4f58-c487-314def6a8171"
      },
      "execution_count": 27,
      "outputs": [
        {
          "output_type": "execute_result",
          "data": {
            "text/plain": [
              "array([[0, 1, 2, 3],\n",
              "       [4, 5, 6, 7]])"
            ]
          },
          "metadata": {},
          "execution_count": 27
        }
      ]
    },
    {
      "cell_type": "code",
      "source": [
        "# arr3.min(axis=0)\n",
        "# it will print the minimum value of each column(same for max using max function)\n",
        "arr3.max(axis=1)\n",
        "# it will print minimum value of each row\n"
      ],
      "metadata": {
        "colab": {
          "base_uri": "https://localhost:8080/"
        },
        "id": "I5X5W872bzRi",
        "outputId": "e514b35b-5997-44e3-f6e9-2698e7b6ee60"
      },
      "execution_count": 31,
      "outputs": [
        {
          "output_type": "execute_result",
          "data": {
            "text/plain": [
              "array([3, 7])"
            ]
          },
          "metadata": {},
          "execution_count": 31
        }
      ]
    },
    {
      "cell_type": "code",
      "source": [
        "arr3.mean()\n",
        "# print mean\n",
        "arr3.sum(axis=1)\n",
        "# print sum row wise\n",
        "arr3.std()\n",
        "# standard deviation\n",
        "np.sin(arr3)\n",
        "# print sin\n",
        "np.median(arr3)\n",
        "# print median"
      ],
      "metadata": {
        "colab": {
          "base_uri": "https://localhost:8080/"
        },
        "id": "M29XoWv7csQg",
        "outputId": "870435dc-1d18-44f5-d20c-e45e7f9f9791"
      },
      "execution_count": 42,
      "outputs": [
        {
          "output_type": "execute_result",
          "data": {
            "text/plain": [
              "np.float64(3.5)"
            ]
          },
          "metadata": {},
          "execution_count": 42
        }
      ]
    },
    {
      "cell_type": "code",
      "source": [
        "np.sqrt(arr3)"
      ],
      "metadata": {
        "colab": {
          "base_uri": "https://localhost:8080/"
        },
        "id": "mnx5Ht4Udfjj",
        "outputId": "2ca4bb5f-46d5-4ca8-93b3-9dfdd224aa55"
      },
      "execution_count": 43,
      "outputs": [
        {
          "output_type": "execute_result",
          "data": {
            "text/plain": [
              "array([[0.        , 1.        , 1.41421356, 1.73205081],\n",
              "       [2.        , 2.23606798, 2.44948974, 2.64575131]])"
            ]
          },
          "metadata": {},
          "execution_count": 43
        }
      ]
    },
    {
      "cell_type": "code",
      "source": [
        "arr3.ndim\n",
        "arr3.ravel()\n",
        "arr3.transpose()"
      ],
      "metadata": {
        "colab": {
          "base_uri": "https://localhost:8080/"
        },
        "id": "04DzolrwgOqB",
        "outputId": "6d349ed6-ccf5-4183-b920-56558f081797"
      },
      "execution_count": 47,
      "outputs": [
        {
          "output_type": "execute_result",
          "data": {
            "text/plain": [
              "array([[0, 4],\n",
              "       [1, 5],\n",
              "       [2, 6],\n",
              "       [3, 7]])"
            ]
          },
          "metadata": {},
          "execution_count": 47
        }
      ]
    },
    {
      "cell_type": "code",
      "source": [
        "arr4= np.arange(12,18).reshape(2,3)\n",
        "arr4\n"
      ],
      "metadata": {
        "colab": {
          "base_uri": "https://localhost:8080/"
        },
        "id": "lgc8sQ7Ugv-W",
        "outputId": "086875d5-2ac3-40be-8989-f2d0caa35d3c"
      },
      "execution_count": 50,
      "outputs": [
        {
          "output_type": "execute_result",
          "data": {
            "text/plain": [
              "array([[12, 13, 14],\n",
              "       [15, 16, 17]])"
            ]
          },
          "metadata": {},
          "execution_count": 50
        }
      ]
    },
    {
      "cell_type": "code",
      "source": [
        "arr3"
      ],
      "metadata": {
        "colab": {
          "base_uri": "https://localhost:8080/"
        },
        "id": "cc9X2lHmhfWQ",
        "outputId": "471f6114-8166-4823-f217-23fcfec89b3b"
      },
      "execution_count": 53,
      "outputs": [
        {
          "output_type": "execute_result",
          "data": {
            "text/plain": [
              "array([[0, 1, 2, 3],\n",
              "       [4, 5, 6, 7]])"
            ]
          },
          "metadata": {},
          "execution_count": 53
        }
      ]
    },
    {
      "cell_type": "code",
      "source": [
        "arr4"
      ],
      "metadata": {
        "colab": {
          "base_uri": "https://localhost:8080/"
        },
        "id": "cbVs7ewbhg9Q",
        "outputId": "acbdfd7f-9c76-4564-9b03-aa1f4f13a672"
      },
      "execution_count": 54,
      "outputs": [
        {
          "output_type": "execute_result",
          "data": {
            "text/plain": [
              "array([[12, 13, 14],\n",
              "       [15, 16, 17]])"
            ]
          },
          "metadata": {},
          "execution_count": 54
        }
      ]
    },
    {
      "cell_type": "code",
      "source": [
        "arr5=np.array([1,2,3],[4,5,6])\n",
        "arr5"
      ],
      "metadata": {
        "colab": {
          "base_uri": "https://localhost:8080/",
          "height": 158
        },
        "id": "xMMKteGeh1NI",
        "outputId": "06125eb0-a017-4fd0-804a-da8dd1364438"
      },
      "execution_count": 57,
      "outputs": [
        {
          "output_type": "error",
          "ename": "TypeError",
          "evalue": "Field elements must be 2- or 3-tuples, got '4'",
          "traceback": [
            "\u001b[0;31m---------------------------------------------------------------------------\u001b[0m",
            "\u001b[0;31mTypeError\u001b[0m                                 Traceback (most recent call last)",
            "\u001b[0;32m/tmp/ipython-input-57-1822468638.py\u001b[0m in \u001b[0;36m<cell line: 0>\u001b[0;34m()\u001b[0m\n\u001b[0;32m----> 1\u001b[0;31m \u001b[0marr5\u001b[0m\u001b[0;34m=\u001b[0m\u001b[0mnp\u001b[0m\u001b[0;34m.\u001b[0m\u001b[0marray\u001b[0m\u001b[0;34m(\u001b[0m\u001b[0;34m[\u001b[0m\u001b[0;36m1\u001b[0m\u001b[0;34m,\u001b[0m\u001b[0;36m2\u001b[0m\u001b[0;34m,\u001b[0m\u001b[0;36m3\u001b[0m\u001b[0;34m]\u001b[0m\u001b[0;34m,\u001b[0m\u001b[0;34m[\u001b[0m\u001b[0;36m4\u001b[0m\u001b[0;34m,\u001b[0m\u001b[0;36m5\u001b[0m\u001b[0;34m,\u001b[0m\u001b[0;36m6\u001b[0m\u001b[0;34m]\u001b[0m\u001b[0;34m)\u001b[0m\u001b[0;34m\u001b[0m\u001b[0;34m\u001b[0m\u001b[0m\n\u001b[0m\u001b[1;32m      2\u001b[0m \u001b[0marr5\u001b[0m\u001b[0;34m\u001b[0m\u001b[0;34m\u001b[0m\u001b[0m\n",
            "\u001b[0;31mTypeError\u001b[0m: Field elements must be 2- or 3-tuples, got '4'"
          ]
        }
      ]
    },
    {
      "cell_type": "code",
      "source": [
        "np.hstack((arr3,arr4))\n",
        "# joining both arrays in single one"
      ],
      "metadata": {
        "colab": {
          "base_uri": "https://localhost:8080/"
        },
        "id": "xLw400LbgduE",
        "outputId": "877cf6c6-bf1a-4aaa-ea52-41d4b87ad965"
      },
      "execution_count": 52,
      "outputs": [
        {
          "output_type": "execute_result",
          "data": {
            "text/plain": [
              "array([[ 0,  1,  2,  3, 12, 13, 14],\n",
              "       [ 4,  5,  6,  7, 15, 16, 17]])"
            ]
          },
          "metadata": {},
          "execution_count": 52
        }
      ]
    },
    {
      "cell_type": "code",
      "source": [
        "np.hsplit(arr3,2)"
      ],
      "metadata": {
        "colab": {
          "base_uri": "https://localhost:8080/"
        },
        "id": "I4mQV9brhnSB",
        "outputId": "d139a6c3-fc74-4f33-fdc5-7a9851f6ef1e"
      },
      "execution_count": 67,
      "outputs": [
        {
          "output_type": "execute_result",
          "data": {
            "text/plain": [
              "[array([[0, 1],\n",
              "        [4, 5]]),\n",
              " array([[2, 3],\n",
              "        [6, 7]])]"
            ]
          },
          "metadata": {},
          "execution_count": 67
        }
      ]
    },
    {
      "cell_type": "code",
      "source": [
        "arr5=np.arange(30).reshape(5,6)\n",
        "arr5"
      ],
      "metadata": {
        "colab": {
          "base_uri": "https://localhost:8080/"
        },
        "id": "Y07w2BvuiW-R",
        "outputId": "cd048b05-56d7-43d7-b2ba-9663dc1619d9"
      },
      "execution_count": 68,
      "outputs": [
        {
          "output_type": "execute_result",
          "data": {
            "text/plain": [
              "array([[ 0,  1,  2,  3,  4,  5],\n",
              "       [ 6,  7,  8,  9, 10, 11],\n",
              "       [12, 13, 14, 15, 16, 17],\n",
              "       [18, 19, 20, 21, 22, 23],\n",
              "       [24, 25, 26, 27, 28, 29]])"
            ]
          },
          "metadata": {},
          "execution_count": 68
        }
      ]
    },
    {
      "cell_type": "code",
      "source": [
        "arr5[[0,2,4]]"
      ],
      "metadata": {
        "colab": {
          "base_uri": "https://localhost:8080/"
        },
        "id": "628FfjnajEx5",
        "outputId": "2010a4cf-367b-4a73-9efa-edfd7e489e60"
      },
      "execution_count": 72,
      "outputs": [
        {
          "output_type": "execute_result",
          "data": {
            "text/plain": [
              "array([[ 0,  1,  2,  3,  4,  5],\n",
              "       [12, 13, 14, 15, 16, 17],\n",
              "       [24, 25, 26, 27, 28, 29]])"
            ]
          },
          "metadata": {},
          "execution_count": 72
        }
      ]
    },
    {
      "cell_type": "code",
      "source": [
        "import numpy as np\n",
        "array12 = np.random.randint(low=5,high =50,size=10).reshape(2,5)\n",
        "array12"
      ],
      "metadata": {
        "colab": {
          "base_uri": "https://localhost:8080/"
        },
        "id": "-C_k4__ijHRC",
        "outputId": "0e2bf59b-f189-4538-9b1f-de26657a1ac8"
      },
      "execution_count": 83,
      "outputs": [
        {
          "output_type": "execute_result",
          "data": {
            "text/plain": [
              "array([[16, 46, 41,  8, 14],\n",
              "       [32, 20, 23, 22, 14]])"
            ]
          },
          "metadata": {},
          "execution_count": 83
        }
      ]
    },
    {
      "cell_type": "code",
      "source": [
        "array12>40"
      ],
      "metadata": {
        "colab": {
          "base_uri": "https://localhost:8080/"
        },
        "id": "xHeWrZ6fj7ET",
        "outputId": "cb6e24ae-66a9-4051-8271-70bddb367f6b"
      },
      "execution_count": 87,
      "outputs": [
        {
          "output_type": "execute_result",
          "data": {
            "text/plain": [
              "array([[False,  True,  True, False, False],\n",
              "       [False, False, False, False, False]])"
            ]
          },
          "metadata": {},
          "execution_count": 87
        }
      ]
    },
    {
      "cell_type": "code",
      "source": [
        "array12[array12>40]\n",
        "# will only print true values called as indexing using boolean array"
      ],
      "metadata": {
        "colab": {
          "base_uri": "https://localhost:8080/"
        },
        "id": "kULOvJxCmm8Q",
        "outputId": "48e10a1f-fe4b-41e2-92ca-c9a2363cccd6"
      },
      "execution_count": 91,
      "outputs": [
        {
          "output_type": "execute_result",
          "data": {
            "text/plain": [
              "array([46, 41])"
            ]
          },
          "metadata": {},
          "execution_count": 91
        }
      ]
    },
    {
      "cell_type": "code",
      "source": [
        "array12[(array12>40)  & (array12%2!=0)]\n",
        "# will only give value greater than 40 and it is odd same can be done for even number"
      ],
      "metadata": {
        "colab": {
          "base_uri": "https://localhost:8080/"
        },
        "id": "JiEJWQdpm7DX",
        "outputId": "739401c2-02f7-4aaf-c782-bf5c0f734c88"
      },
      "execution_count": 94,
      "outputs": [
        {
          "output_type": "execute_result",
          "data": {
            "text/plain": [
              "array([46])"
            ]
          },
          "metadata": {},
          "execution_count": 94
        }
      ]
    },
    {
      "cell_type": "code",
      "source": [
        "array12[(array12>40)  & (array12%2!=0)] =0\n",
        "\n",
        "array12\n",
        "#  will print 0 at the location of 46"
      ],
      "metadata": {
        "colab": {
          "base_uri": "https://localhost:8080/"
        },
        "id": "pjkKyTPgne_1",
        "outputId": "58afc656-6c45-4e9c-c19d-17568851ec64"
      },
      "execution_count": 98,
      "outputs": [
        {
          "output_type": "execute_result",
          "data": {
            "text/plain": [
              "array([[16, 46,  0,  8, 14],\n",
              "       [32, 20, 23, 22, 14]])"
            ]
          },
          "metadata": {},
          "execution_count": 98
        }
      ]
    },
    {
      "cell_type": "code",
      "source": [
        "a=np.linspace(-20,20,100)\n",
        "a.size"
      ],
      "metadata": {
        "colab": {
          "base_uri": "https://localhost:8080/"
        },
        "id": "jqDUU1Fqn1Tq",
        "outputId": "b72e75cd-8f69-4f9a-b497-ccc3cc59220f"
      },
      "execution_count": 102,
      "outputs": [
        {
          "output_type": "execute_result",
          "data": {
            "text/plain": [
              "100"
            ]
          },
          "metadata": {},
          "execution_count": 102
        }
      ]
    },
    {
      "cell_type": "code",
      "source": [
        "b =np.sin(a)\n",
        "b"
      ],
      "metadata": {
        "colab": {
          "base_uri": "https://localhost:8080/"
        },
        "id": "KGcMt4BIoY61",
        "outputId": "e7463c75-0820-46f1-c737-06b4464937c2"
      },
      "execution_count": 107,
      "outputs": [
        {
          "output_type": "execute_result",
          "data": {
            "text/plain": [
              "array([-0.91294525, -0.67900297, -0.33571414,  0.06163804,  0.44906404,\n",
              "        0.76417283,  0.95621934,  0.99427643,  0.87221538,  0.6096929 ,\n",
              "        0.24898556, -0.15181837, -0.5281735 , -0.81947165, -0.9788022 ,\n",
              "       -0.98050658, -0.82431033, -0.53536727, -0.16020873,  0.24074979,\n",
              "        0.60293801,  0.86802917,  0.99333304,  0.95867071,  0.76962418,\n",
              "        0.45663749,  0.07011396, -0.32770071, -0.6727425 , -0.90944594,\n",
              "       -0.99969234, -0.92894843, -0.7086068 , -0.37415123,  0.0205576 ,\n",
              "        0.41195583,  0.73701276,  0.94338126,  0.99782778,  0.89158426,\n",
              "        0.64176014,  0.28858706, -0.11106004, -0.49282204, -0.79522006,\n",
              "       -0.96955595, -0.98775469, -0.84688556, -0.56963411, -0.20064886,\n",
              "        0.20064886,  0.56963411,  0.84688556,  0.98775469,  0.96955595,\n",
              "        0.79522006,  0.49282204,  0.11106004, -0.28858706, -0.64176014,\n",
              "       -0.89158426, -0.99782778, -0.94338126, -0.73701276, -0.41195583,\n",
              "       -0.0205576 ,  0.37415123,  0.7086068 ,  0.92894843,  0.99969234,\n",
              "        0.90944594,  0.6727425 ,  0.32770071, -0.07011396, -0.45663749,\n",
              "       -0.76962418, -0.95867071, -0.99333304, -0.86802917, -0.60293801,\n",
              "       -0.24074979,  0.16020873,  0.53536727,  0.82431033,  0.98050658,\n",
              "        0.9788022 ,  0.81947165,  0.5281735 ,  0.15181837, -0.24898556,\n",
              "       -0.6096929 , -0.87221538, -0.99427643, -0.95621934, -0.76417283,\n",
              "       -0.44906404, -0.06163804,  0.33571414,  0.67900297,  0.91294525])"
            ]
          },
          "metadata": {},
          "execution_count": 107
        }
      ]
    },
    {
      "cell_type": "code",
      "source": [
        "b.size"
      ],
      "metadata": {
        "colab": {
          "base_uri": "https://localhost:8080/"
        },
        "id": "ULb3eOAyokiA",
        "outputId": "b8bd7f2d-e1f2-4b39-b6bb-493f83440697"
      },
      "execution_count": 109,
      "outputs": [
        {
          "output_type": "execute_result",
          "data": {
            "text/plain": [
              "100"
            ]
          },
          "metadata": {},
          "execution_count": 109
        }
      ]
    },
    {
      "cell_type": "code",
      "source": [
        "import matplotlib.pyplot as plt\n",
        "%matplotlib inline\n",
        "plt.plot(a,b)"
      ],
      "metadata": {
        "colab": {
          "base_uri": "https://localhost:8080/",
          "height": 447
        },
        "id": "fee9gZSdovRA",
        "outputId": "58724893-18ab-4524-b3e9-d364ae67de39"
      },
      "execution_count": 112,
      "outputs": [
        {
          "output_type": "execute_result",
          "data": {
            "text/plain": [
              "[<matplotlib.lines.Line2D at 0x7f3e5071c750>]"
            ]
          },
          "metadata": {},
          "execution_count": 112
        },
        {
          "output_type": "display_data",
          "data": {
            "text/plain": [
              "<Figure size 640x480 with 1 Axes>"
            ],
            "image/png": "[encoded data removed]"
          },
          "metadata": {}
        }
      ]
    },
    {
      "cell_type": "code",
      "source": [
        "b=a*a+2*a+9\n",
        "plt.plot(a,b)"
      ],
      "metadata": {
        "colab": {
          "base_uri": "https://localhost:8080/",
          "height": 447
        },
        "id": "rbMb0wA_quXO",
        "outputId": "d466a948-d756-4463-87b0-4be8a121146c"
      },
      "execution_count": 113,
      "outputs": [
        {
          "output_type": "execute_result",
          "data": {
            "text/plain": [
              "[<matplotlib.lines.Line2D at 0x7f3e4e451a50>]"
            ]
          },
          "metadata": {},
          "execution_count": 113
        },
        {
          "output_type": "display_data",
          "data": {
            "text/plain": [
              "<Figure size 640x480 with 1 Axes>"
            ],
            "image/png": "[encoded data removed]"
          },
          "metadata": {}
        }
      ]
    },
    {
      "cell_type": "code",
      "source": [
        "# broadcasting performing arithmetic operations on dissimilar arrays to increse flexibility\n",
        "array2=np.arange(3).reshape(1,3)\n",
        "array3=np.arange(12).reshape(4,3)\n",
        "\n",
        "# both have different order if first entry of first is 1 and the second entries of both is same then will see the result\n",
        "print(array2)\n",
        "print(array3)\n",
        "array2+array3"
      ],
      "metadata": {
        "colab": {
          "base_uri": "https://localhost:8080/"
        },
        "id": "mpvyNLy27cjN",
        "outputId": "623809c3-abe9-433d-e55a-41aedbdb9835"
      },
      "execution_count": 120,
      "outputs": [
        {
          "output_type": "stream",
          "name": "stdout",
          "text": [
            "[[0 1 2]]\n",
            "[[ 0  1  2]\n",
            " [ 3  4  5]\n",
            " [ 6  7  8]\n",
            " [ 9 10 11]]\n"
          ]
        },
        {
          "output_type": "execute_result",
          "data": {
            "text/plain": [
              "array([[ 0,  2,  4],\n",
              "       [ 3,  5,  7],\n",
              "       [ 6,  8, 10],\n",
              "       [ 9, 11, 13]])"
            ]
          },
          "metadata": {},
          "execution_count": 120
        }
      ]
    },
    {
      "cell_type": "code",
      "source": [
        "array4=np.arange(3).reshape(1,3)\n",
        "array5=np.arange(3).reshape(3,1)\n",
        "print(array4)\n",
        "print(array5)\n",
        "array4+array5"
      ],
      "metadata": {
        "colab": {
          "base_uri": "https://localhost:8080/"
        },
        "id": "Ur_qj4hnBFfS",
        "outputId": "5d23d44c-5755-4171-b960-5dbd9991b7c8"
      },
      "execution_count": 124,
      "outputs": [
        {
          "output_type": "stream",
          "name": "stdout",
          "text": [
            "[[0 1 2]]\n",
            "[[0]\n",
            " [1]\n",
            " [2]]\n"
          ]
        },
        {
          "output_type": "execute_result",
          "data": {
            "text/plain": [
              "array([[0, 1, 2],\n",
              "       [1, 2, 3],\n",
              "       [2, 3, 4]])"
            ]
          },
          "metadata": {},
          "execution_count": 124
        }
      ]
    },
    {
      "cell_type": "code",
      "source": [
        "array6 = np.arange(1).reshape(1,1)\n",
        "array7 = np.arange(20).reshape(4,5)\n",
        "array6+array7"
      ],
      "metadata": {
        "colab": {
          "base_uri": "https://localhost:8080/"
        },
        "id": "mNVx17QuCyCE",
        "outputId": "ad36fe01-bb34-43bb-f493-f924cce24f58"
      },
      "execution_count": 127,
      "outputs": [
        {
          "output_type": "execute_result",
          "data": {
            "text/plain": [
              "array([[ 0,  1,  2,  3,  4],\n",
              "       [ 5,  6,  7,  8,  9],\n",
              "       [10, 11, 12, 13, 14],\n",
              "       [15, 16, 17, 18, 19]])"
            ]
          },
          "metadata": {},
          "execution_count": 127
        }
      ]
    },
    {
      "cell_type": "code",
      "source": [
        "# different dimensions\n",
        "array8=np.array(4)\n",
        "array9 =np.arange(20).reshape(5,4)\n",
        "array8+array9"
      ],
      "metadata": {
        "colab": {
          "base_uri": "https://localhost:8080/"
        },
        "id": "T-JYIpOkDMX-",
        "outputId": "6fb60199-3169-4bb5-d728-a8f9121a2d1c"
      },
      "execution_count": 130,
      "outputs": [
        {
          "output_type": "execute_result",
          "data": {
            "text/plain": [
              "array([[ 4,  5,  6,  7],\n",
              "       [ 8,  9, 10, 11],\n",
              "       [12, 13, 14, 15],\n",
              "       [16, 17, 18, 19],\n",
              "       [20, 21, 22, 23]])"
            ]
          },
          "metadata": {},
          "execution_count": 130
        }
      ]
    },
    {
      "cell_type": "code",
      "source": [
        "np.random.random()\n",
        "# provide random value between 0 and 1"
      ],
      "metadata": {
        "colab": {
          "base_uri": "https://localhost:8080/"
        },
        "id": "iIF-u386DnGu",
        "outputId": "1249b861-f7cc-477c-e945-1d7581c6a286"
      },
      "execution_count": 131,
      "outputs": [
        {
          "output_type": "execute_result",
          "data": {
            "text/plain": [
              "0.3586617196512205"
            ]
          },
          "metadata": {},
          "execution_count": 131
        }
      ]
    },
    {
      "cell_type": "code",
      "source": [
        "np.random.seed()\n",
        "# we get same value in output\n",
        "\n",
        "np.random.random()"
      ],
      "metadata": {
        "colab": {
          "base_uri": "https://localhost:8080/"
        },
        "id": "pI9vyUTxEO3v",
        "outputId": "eaf4ea9b-8d6b-4415-98e2-6e81bd68acac"
      },
      "execution_count": 135,
      "outputs": [
        {
          "output_type": "execute_result",
          "data": {
            "text/plain": [
              "0.7536764532402164"
            ]
          },
          "metadata": {},
          "execution_count": 135
        }
      ]
    },
    {
      "cell_type": "code",
      "source": [
        "np.random.uniform(1,100)\n",
        "# we have specified some range in this\n",
        "np.random.uniform(1,100,10).reshape(2,5)\n",
        "# printsa list of 10 values between 1 and 100\n",
        "np.random.randint(1,50,5)\n",
        "# generates list of integer values between 1 and 50 having 5 elements\n"
      ],
      "metadata": {
        "colab": {
          "base_uri": "https://localhost:8080/"
        },
        "id": "URlZ7TfxEsd6",
        "outputId": "da4d1dce-c3b3-44f8-ce64-1333aa7b91c6"
      },
      "execution_count": 142,
      "outputs": [
        {
          "output_type": "execute_result",
          "data": {
            "text/plain": [
              "array([13, 16, 46,  4, 25])"
            ]
          },
          "metadata": {},
          "execution_count": 142
        }
      ]
    },
    {
      "cell_type": "code",
      "source": [
        "array9"
      ],
      "metadata": {
        "colab": {
          "base_uri": "https://localhost:8080/"
        },
        "id": "Slku1kVLGTw1",
        "outputId": "f6083d68-c7dd-4358-8786-1f52a77420f7"
      },
      "execution_count": 143,
      "outputs": [
        {
          "output_type": "execute_result",
          "data": {
            "text/plain": [
              "array([[ 0,  1,  2,  3],\n",
              "       [ 4,  5,  6,  7],\n",
              "       [ 8,  9, 10, 11],\n",
              "       [12, 13, 14, 15],\n",
              "       [16, 17, 18, 19]])"
            ]
          },
          "metadata": {},
          "execution_count": 143
        }
      ]
    },
    {
      "cell_type": "code",
      "source": [
        "np.min(array9)\n",
        "np.argmax(array9)"
      ],
      "metadata": {
        "colab": {
          "base_uri": "https://localhost:8080/"
        },
        "id": "Lc8FqWP2KsgS",
        "outputId": "5e63a45f-daa4-4658-db13-977bfb360b81"
      },
      "execution_count": 147,
      "outputs": [
        {
          "output_type": "execute_result",
          "data": {
            "text/plain": [
              "np.int64(19)"
            ]
          },
          "metadata": {},
          "execution_count": 147
        }
      ]
    },
    {
      "cell_type": "code",
      "source": [
        "array9[array9%2!=0] =-1\n",
        "array9"
      ],
      "metadata": {
        "colab": {
          "base_uri": "https://localhost:8080/"
        },
        "id": "9EkMgC39Ku4R",
        "outputId": "94c7083a-cca9-481e-be64-683b57863b90"
      },
      "execution_count": 149,
      "outputs": [
        {
          "output_type": "execute_result",
          "data": {
            "text/plain": [
              "array([[ 0, -1,  2, -1],\n",
              "       [ 4, -1,  6, -1],\n",
              "       [ 8, -1, 10, -1],\n",
              "       [12, -1, 14, -1],\n",
              "       [16, -1, 18, -1]])"
            ]
          },
          "metadata": {},
          "execution_count": 149
        }
      ]
    },
    {
      "cell_type": "code",
      "source": [
        "a=np.random.randint(1,50,5)\n",
        "out = np.where(a%2==1,-1,a)\n",
        "out\n"
      ],
      "metadata": {
        "colab": {
          "base_uri": "https://localhost:8080/"
        },
        "id": "Da9q-BSGLOFS",
        "outputId": "b0540e25-f1b2-4047-e007-81e1fac133fa"
      },
      "execution_count": 160,
      "outputs": [
        {
          "output_type": "execute_result",
          "data": {
            "text/plain": [
              "array([44, 36,  2, -1, -1])"
            ]
          },
          "metadata": {},
          "execution_count": 160
        }
      ]
    },
    {
      "cell_type": "code",
      "source": [
        "a=np.sort(a)\n",
        "a\n",
        "np.percentile(a,75.8)"
      ],
      "metadata": {
        "colab": {
          "base_uri": "https://localhost:8080/"
        },
        "id": "P8NazLtXLsPY",
        "outputId": "13dcb76a-26f9-41ff-b110-aef3d40fa0d6"
      },
      "execution_count": 165,
      "outputs": [
        {
          "output_type": "execute_result",
          "data": {
            "text/plain": [
              "np.float64(36.256)"
            ]
          },
          "metadata": {},
          "execution_count": 165
        }
      ]
    },
    {
      "cell_type": "code",
      "source": [],
      "metadata": {
        "id": "PYfBFOjGMd-M"
      },
      "execution_count": null,
      "outputs": []
    }
  ]
}